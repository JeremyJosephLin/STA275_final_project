{
 "cells": [
  {
   "cell_type": "markdown",
   "id": "99cf6deb",
   "metadata": {},
   "source": [
    "# Exploratory Data Analysis \n",
    "\n",
    "We want to look at the relationship between Cognitive Function (Fine, MCI, AD) and the underlying Pathology (AD vs no AD). \n",
    "\n",
    "## Loading the Data"
   ]
  },
  {
   "cell_type": "code",
   "execution_count": 1,
   "id": "cf529215",
   "metadata": {},
   "outputs": [],
   "source": [
    "import numpy as np\n",
    "import pandas as pd\n",
    "import matplotlib.pyplot as plt\n",
    "from collections import Counter, defaultdict\n",
    "from importlib import reload\n",
    "import seaborn as sns\n",
    "from tabulate import tabulate\n",
    "import sidetable as stb\n",
    "import os, sys\n",
    "\n",
    "sys.path.append(os.path.join(\"../\", \"utils\"))\n",
    "import load_data"
   ]
  },
  {
   "cell_type": "code",
   "execution_count": 2,
   "id": "0cb67b20",
   "metadata": {},
   "outputs": [
    {
     "name": "stdout",
     "output_type": "stream",
     "text": [
      "(45100, 94) (11273, 172) (3017, 8)\n"
     ]
    }
   ],
   "source": [
    "reload(load_data)\n",
    "uds = load_data.load_uds()\n",
    "mri = load_data.load_mri()\n",
    "csf = load_data.load_csf()\n",
    "csf = csf.drop(['CSFTTYR', 'CSFLPMO', 'CSFLPDY', 'CSFABMO', 'CSFABDY', 'CSFABYR',\n",
    "                'CSFPTMO', 'CSFPTDY', 'CSFPTYR', 'CSFTTMO', 'CSFTTDY', 'CSFTTYR', 'CSFLPYR',\n",
    "                'CSFTTMDX','CSFABMDX', 'CSFPTMDX'], axis=1)\n",
    "uds_dict, mri_dict = load_data.load_feature_map()\n",
    "print(uds.shape, mri.shape, csf.shape)"
   ]
  },
  {
   "cell_type": "markdown",
   "id": "3daaa02d",
   "metadata": {},
   "source": [
    "#### Recode data so that we can easily see proportion of men vs women"
   ]
  },
  {
   "cell_type": "code",
   "execution_count": 57,
   "id": "fb4b7142",
   "metadata": {},
   "outputs": [
    {
     "data": {
      "text/plain": [
       "0    19349\n",
       "1    25751\n",
       "Name: SEX_BIN, dtype: int64"
      ]
     },
     "execution_count": 57,
     "metadata": {},
     "output_type": "execute_result"
    }
   ],
   "source": [
    "def binary_sex(series):\n",
    "    if series  == 1:\n",
    "        return 0\n",
    "    elif series == 2:\n",
    "        return 1\n",
    "\n",
    "uds['SEX_BIN'] = uds['SEX'].apply(binary_sex)\n",
    "uds['SEX_BIN'].value_counts(sort=False)"
   ]
  },
  {
   "cell_type": "code",
   "execution_count": 58,
   "id": "2e74641f",
   "metadata": {},
   "outputs": [
    {
     "data": {
      "text/plain": [
       "1    19349\n",
       "2    25751\n",
       "Name: SEX, dtype: int64"
      ]
     },
     "execution_count": 58,
     "metadata": {},
     "output_type": "execute_result"
    }
   ],
   "source": [
    "uds['SEX'].value_counts(sort=False)"
   ]
  },
  {
   "cell_type": "markdown",
   "id": "58aad597",
   "metadata": {},
   "source": [
    "## EDA before we impute the missing data\n",
    "\n",
    "UDSD:\n",
    "1 = Normal cognition \n",
    "2 = Impaired-not-MCI \n",
    "3 = MCI \n",
    "4 = Dementia\n",
    "\n",
    "\n",
    "ALZP:\n",
    "1 = Primary\n",
    "2 = Contributing\n",
    "3 = Non-contributing\n",
    "7 = Cognitively impaired but not AD diagnosis\n",
    "8 = Diagnosis of normal cognition\n",
    "\n"
   ]
  },
  {
   "cell_type": "code",
   "execution_count": 37,
   "id": "3c1d5a06",
   "metadata": {},
   "outputs": [
    {
     "data": {
      "text/html": [
       "<div>\n",
       "<style scoped>\n",
       "    .dataframe tbody tr th:only-of-type {\n",
       "        vertical-align: middle;\n",
       "    }\n",
       "\n",
       "    .dataframe tbody tr th {\n",
       "        vertical-align: top;\n",
       "    }\n",
       "\n",
       "    .dataframe thead th {\n",
       "        text-align: right;\n",
       "    }\n",
       "</style>\n",
       "<table border=\"1\" class=\"dataframe\">\n",
       "  <thead>\n",
       "    <tr style=\"text-align: right;\">\n",
       "      <th>NACCUDSD</th>\n",
       "      <th>1</th>\n",
       "      <th>2</th>\n",
       "      <th>3</th>\n",
       "      <th>4</th>\n",
       "      <th>All</th>\n",
       "    </tr>\n",
       "    <tr>\n",
       "      <th>NACCALZP</th>\n",
       "      <th></th>\n",
       "      <th></th>\n",
       "      <th></th>\n",
       "      <th></th>\n",
       "      <th></th>\n",
       "    </tr>\n",
       "  </thead>\n",
       "  <tbody>\n",
       "    <tr>\n",
       "      <th>1</th>\n",
       "      <td>0</td>\n",
       "      <td>332</td>\n",
       "      <td>4255</td>\n",
       "      <td>11288</td>\n",
       "      <td>15875</td>\n",
       "    </tr>\n",
       "    <tr>\n",
       "      <th>2</th>\n",
       "      <td>0</td>\n",
       "      <td>40</td>\n",
       "      <td>236</td>\n",
       "      <td>714</td>\n",
       "      <td>990</td>\n",
       "    </tr>\n",
       "    <tr>\n",
       "      <th>3</th>\n",
       "      <td>0</td>\n",
       "      <td>0</td>\n",
       "      <td>4</td>\n",
       "      <td>5</td>\n",
       "      <td>9</td>\n",
       "    </tr>\n",
       "    <tr>\n",
       "      <th>7</th>\n",
       "      <td>0</td>\n",
       "      <td>1621</td>\n",
       "      <td>5357</td>\n",
       "      <td>3476</td>\n",
       "      <td>10454</td>\n",
       "    </tr>\n",
       "    <tr>\n",
       "      <th>8</th>\n",
       "      <td>17772</td>\n",
       "      <td>0</td>\n",
       "      <td>0</td>\n",
       "      <td>0</td>\n",
       "      <td>17772</td>\n",
       "    </tr>\n",
       "    <tr>\n",
       "      <th>All</th>\n",
       "      <td>17772</td>\n",
       "      <td>1993</td>\n",
       "      <td>9852</td>\n",
       "      <td>15483</td>\n",
       "      <td>45100</td>\n",
       "    </tr>\n",
       "  </tbody>\n",
       "</table>\n",
       "</div>"
      ],
      "text/plain": [
       "NACCUDSD      1     2     3      4    All\n",
       "NACCALZP                                 \n",
       "1             0   332  4255  11288  15875\n",
       "2             0    40   236    714    990\n",
       "3             0     0     4      5      9\n",
       "7             0  1621  5357   3476  10454\n",
       "8         17772     0     0      0  17772\n",
       "All       17772  1993  9852  15483  45100"
      ]
     },
     "execution_count": 37,
     "metadata": {},
     "output_type": "execute_result"
    }
   ],
   "source": [
    "pd.crosstab( uds.NACCALZP, uds.NACCUDSD, \n",
    "            #rownames=['Primary', 'Contributing', 'Non-Cont', 'Not AD', 'Normal Cog','Total'], \n",
    "            #colnames=['Normal', 'Impaired not MCI', 'MCI', 'Dementia','Total'],\n",
    "            margins=True)"
   ]
  },
  {
   "cell_type": "code",
   "execution_count": 45,
   "id": "97fced8e",
   "metadata": {},
   "outputs": [
    {
     "data": {
      "text/html": [
       "<div>\n",
       "<style scoped>\n",
       "    .dataframe tbody tr th:only-of-type {\n",
       "        vertical-align: middle;\n",
       "    }\n",
       "\n",
       "    .dataframe tbody tr th {\n",
       "        vertical-align: top;\n",
       "    }\n",
       "\n",
       "    .dataframe thead th {\n",
       "        text-align: right;\n",
       "    }\n",
       "</style>\n",
       "<table border=\"1\" class=\"dataframe\">\n",
       "  <thead>\n",
       "    <tr style=\"text-align: right;\">\n",
       "      <th>NACCUDSD</th>\n",
       "      <th>1</th>\n",
       "      <th>2</th>\n",
       "      <th>3</th>\n",
       "      <th>4</th>\n",
       "      <th>All</th>\n",
       "    </tr>\n",
       "    <tr>\n",
       "      <th>NACCALZP</th>\n",
       "      <th></th>\n",
       "      <th></th>\n",
       "      <th></th>\n",
       "      <th></th>\n",
       "      <th></th>\n",
       "    </tr>\n",
       "  </thead>\n",
       "  <tbody>\n",
       "    <tr>\n",
       "      <th>1</th>\n",
       "      <td>NaN</td>\n",
       "      <td>73.35</td>\n",
       "      <td>73.41</td>\n",
       "      <td>74.21</td>\n",
       "      <td>73.98</td>\n",
       "    </tr>\n",
       "    <tr>\n",
       "      <th>2</th>\n",
       "      <td>NaN</td>\n",
       "      <td>72.58</td>\n",
       "      <td>73.38</td>\n",
       "      <td>71.93</td>\n",
       "      <td>72.30</td>\n",
       "    </tr>\n",
       "    <tr>\n",
       "      <th>3</th>\n",
       "      <td>NaN</td>\n",
       "      <td>NaN</td>\n",
       "      <td>69.00</td>\n",
       "      <td>73.60</td>\n",
       "      <td>71.56</td>\n",
       "    </tr>\n",
       "    <tr>\n",
       "      <th>7</th>\n",
       "      <td>NaN</td>\n",
       "      <td>69.37</td>\n",
       "      <td>72.11</td>\n",
       "      <td>67.13</td>\n",
       "      <td>70.03</td>\n",
       "    </tr>\n",
       "    <tr>\n",
       "      <th>8</th>\n",
       "      <td>70.14</td>\n",
       "      <td>NaN</td>\n",
       "      <td>NaN</td>\n",
       "      <td>NaN</td>\n",
       "      <td>70.14</td>\n",
       "    </tr>\n",
       "    <tr>\n",
       "      <th>All</th>\n",
       "      <td>70.14</td>\n",
       "      <td>70.09</td>\n",
       "      <td>72.70</td>\n",
       "      <td>72.52</td>\n",
       "      <td>71.51</td>\n",
       "    </tr>\n",
       "  </tbody>\n",
       "</table>\n",
       "</div>"
      ],
      "text/plain": [
       "NACCUDSD      1      2      3      4    All\n",
       "NACCALZP                                   \n",
       "1           NaN  73.35  73.41  74.21  73.98\n",
       "2           NaN  72.58  73.38  71.93  72.30\n",
       "3           NaN    NaN  69.00  73.60  71.56\n",
       "7           NaN  69.37  72.11  67.13  70.03\n",
       "8         70.14    NaN    NaN    NaN  70.14\n",
       "All       70.14  70.09  72.70  72.52  71.51"
      ]
     },
     "execution_count": 45,
     "metadata": {},
     "output_type": "execute_result"
    }
   ],
   "source": [
    "pd.crosstab( uds.NACCALZP, uds.NACCUDSD, \n",
    "            #rownames=['Primary', 'Contributing', 'Non-Cont', 'Not AD', 'Normal Cog','Total'], \n",
    "            #colnames=['Normal', 'Impaired not MCI', 'MCI', 'Dementia','Total'],\n",
    "            values = uds['NACCAGE'],\n",
    "            aggfunc = 'mean',\n",
    "            margins=True).round(2)"
   ]
  },
  {
   "cell_type": "code",
   "execution_count": 46,
   "id": "2c0ae648",
   "metadata": {
    "scrolled": true
   },
   "outputs": [
    {
     "data": {
      "text/html": [
       "<div>\n",
       "<style scoped>\n",
       "    .dataframe tbody tr th:only-of-type {\n",
       "        vertical-align: middle;\n",
       "    }\n",
       "\n",
       "    .dataframe tbody tr th {\n",
       "        vertical-align: top;\n",
       "    }\n",
       "\n",
       "    .dataframe thead th {\n",
       "        text-align: right;\n",
       "    }\n",
       "</style>\n",
       "<table border=\"1\" class=\"dataframe\">\n",
       "  <thead>\n",
       "    <tr style=\"text-align: right;\">\n",
       "      <th>NACCUDSD</th>\n",
       "      <th>1</th>\n",
       "      <th>2</th>\n",
       "      <th>3</th>\n",
       "      <th>4</th>\n",
       "      <th>All</th>\n",
       "    </tr>\n",
       "    <tr>\n",
       "      <th>NACCALZP</th>\n",
       "      <th></th>\n",
       "      <th></th>\n",
       "      <th></th>\n",
       "      <th></th>\n",
       "      <th></th>\n",
       "    </tr>\n",
       "  </thead>\n",
       "  <tbody>\n",
       "    <tr>\n",
       "      <th>1</th>\n",
       "      <td>NaN</td>\n",
       "      <td>16.07</td>\n",
       "      <td>15.60</td>\n",
       "      <td>14.18</td>\n",
       "      <td>14.60</td>\n",
       "    </tr>\n",
       "    <tr>\n",
       "      <th>2</th>\n",
       "      <td>NaN</td>\n",
       "      <td>14.65</td>\n",
       "      <td>14.96</td>\n",
       "      <td>14.61</td>\n",
       "      <td>14.70</td>\n",
       "    </tr>\n",
       "    <tr>\n",
       "      <th>3</th>\n",
       "      <td>NaN</td>\n",
       "      <td>NaN</td>\n",
       "      <td>16.50</td>\n",
       "      <td>17.50</td>\n",
       "      <td>17.00</td>\n",
       "    </tr>\n",
       "    <tr>\n",
       "      <th>7</th>\n",
       "      <td>NaN</td>\n",
       "      <td>14.48</td>\n",
       "      <td>14.91</td>\n",
       "      <td>15.06</td>\n",
       "      <td>14.89</td>\n",
       "    </tr>\n",
       "    <tr>\n",
       "      <th>8</th>\n",
       "      <td>15.79</td>\n",
       "      <td>NaN</td>\n",
       "      <td>NaN</td>\n",
       "      <td>NaN</td>\n",
       "      <td>15.79</td>\n",
       "    </tr>\n",
       "    <tr>\n",
       "      <th>All</th>\n",
       "      <td>15.79</td>\n",
       "      <td>14.75</td>\n",
       "      <td>15.21</td>\n",
       "      <td>14.39</td>\n",
       "      <td>15.14</td>\n",
       "    </tr>\n",
       "  </tbody>\n",
       "</table>\n",
       "</div>"
      ],
      "text/plain": [
       "NACCUDSD      1      2      3      4    All\n",
       "NACCALZP                                   \n",
       "1           NaN  16.07  15.60  14.18  14.60\n",
       "2           NaN  14.65  14.96  14.61  14.70\n",
       "3           NaN    NaN  16.50  17.50  17.00\n",
       "7           NaN  14.48  14.91  15.06  14.89\n",
       "8         15.79    NaN    NaN    NaN  15.79\n",
       "All       15.79  14.75  15.21  14.39  15.14"
      ]
     },
     "execution_count": 46,
     "metadata": {},
     "output_type": "execute_result"
    }
   ],
   "source": [
    "pd.crosstab( uds.NACCALZP, uds.NACCUDSD, \n",
    "            #rownames=['Primary', 'Contributing', 'Non-Cont', 'Not AD', 'Normal Cog','Total'], \n",
    "            #colnames=['Normal', 'Impaired not MCI', 'MCI', 'Dementia','Total'],\n",
    "            values = uds['EDUC'],\n",
    "            aggfunc = 'mean',\n",
    "            margins=True).round(2)"
   ]
  },
  {
   "cell_type": "code",
   "execution_count": 60,
   "id": "99307959",
   "metadata": {},
   "outputs": [
    {
     "data": {
      "text/html": [
       "<div>\n",
       "<style scoped>\n",
       "    .dataframe tbody tr th:only-of-type {\n",
       "        vertical-align: middle;\n",
       "    }\n",
       "\n",
       "    .dataframe tbody tr th {\n",
       "        vertical-align: top;\n",
       "    }\n",
       "\n",
       "    .dataframe thead th {\n",
       "        text-align: right;\n",
       "    }\n",
       "</style>\n",
       "<table border=\"1\" class=\"dataframe\">\n",
       "  <thead>\n",
       "    <tr style=\"text-align: right;\">\n",
       "      <th>NACCUDSD</th>\n",
       "      <th>1</th>\n",
       "      <th>2</th>\n",
       "      <th>3</th>\n",
       "      <th>4</th>\n",
       "      <th>All</th>\n",
       "    </tr>\n",
       "    <tr>\n",
       "      <th>NACCALZP</th>\n",
       "      <th></th>\n",
       "      <th></th>\n",
       "      <th></th>\n",
       "      <th></th>\n",
       "      <th></th>\n",
       "    </tr>\n",
       "  </thead>\n",
       "  <tbody>\n",
       "    <tr>\n",
       "      <th>1</th>\n",
       "      <td>NaN</td>\n",
       "      <td>0.55</td>\n",
       "      <td>0.50</td>\n",
       "      <td>0.56</td>\n",
       "      <td>0.55</td>\n",
       "    </tr>\n",
       "    <tr>\n",
       "      <th>2</th>\n",
       "      <td>NaN</td>\n",
       "      <td>0.48</td>\n",
       "      <td>0.51</td>\n",
       "      <td>0.44</td>\n",
       "      <td>0.46</td>\n",
       "    </tr>\n",
       "    <tr>\n",
       "      <th>3</th>\n",
       "      <td>NaN</td>\n",
       "      <td>NaN</td>\n",
       "      <td>0.50</td>\n",
       "      <td>0.20</td>\n",
       "      <td>0.33</td>\n",
       "    </tr>\n",
       "    <tr>\n",
       "      <th>7</th>\n",
       "      <td>NaN</td>\n",
       "      <td>0.58</td>\n",
       "      <td>0.50</td>\n",
       "      <td>0.40</td>\n",
       "      <td>0.48</td>\n",
       "    </tr>\n",
       "    <tr>\n",
       "      <th>8</th>\n",
       "      <td>0.65</td>\n",
       "      <td>NaN</td>\n",
       "      <td>NaN</td>\n",
       "      <td>NaN</td>\n",
       "      <td>0.65</td>\n",
       "    </tr>\n",
       "    <tr>\n",
       "      <th>All</th>\n",
       "      <td>0.65</td>\n",
       "      <td>0.58</td>\n",
       "      <td>0.50</td>\n",
       "      <td>0.52</td>\n",
       "      <td>0.57</td>\n",
       "    </tr>\n",
       "  </tbody>\n",
       "</table>\n",
       "</div>"
      ],
      "text/plain": [
       "NACCUDSD     1     2     3     4   All\n",
       "NACCALZP                              \n",
       "1          NaN  0.55  0.50  0.56  0.55\n",
       "2          NaN  0.48  0.51  0.44  0.46\n",
       "3          NaN   NaN  0.50  0.20  0.33\n",
       "7          NaN  0.58  0.50  0.40  0.48\n",
       "8         0.65   NaN   NaN   NaN  0.65\n",
       "All       0.65  0.58  0.50  0.52  0.57"
      ]
     },
     "execution_count": 60,
     "metadata": {},
     "output_type": "execute_result"
    }
   ],
   "source": [
    "pd.crosstab( uds.NACCALZP, uds.NACCUDSD, \n",
    "            #rownames=['Primary', 'Contributing', 'Non-Cont', 'Not AD', 'Normal Cog','Total'], \n",
    "            #colnames=['Normal', 'Impaired not MCI', 'MCI', 'Dementia','Total'],\n",
    "            values = uds['SEX_BIN'],\n",
    "            aggfunc = 'mean',\n",
    "            margins=True).round(2)"
   ]
  },
  {
   "cell_type": "code",
   "execution_count": 64,
   "id": "1da2974f",
   "metadata": {
    "scrolled": true
   },
   "outputs": [
    {
     "data": {
      "image/png": "[encoded data removed]",
      "text/plain": [
       "<Figure size 576x432 with 2 Axes>"
      ]
     },
     "metadata": {
      "needs_background": "light"
     },
     "output_type": "display_data"
    }
   ],
   "source": [
    "plt.figure(figsize=(8, 6))\n",
    "sns.heatmap(\n",
    "    pd.crosstab( uds.NACCALZP, uds.NACCUDSD, \n",
    "            colnames=['Cognition'], \n",
    "            rownames=['Pathology'],\n",
    "            values = uds['NACCAGE'],\n",
    "            aggfunc = 'mean',\n",
    "            margins=False).round(2), \n",
    "    annot = True\n",
    ")\n",
    "plt.show()"
   ]
  },
  {
   "cell_type": "code",
   "execution_count": 63,
   "id": "17708c48",
   "metadata": {},
   "outputs": [
    {
     "data": {
      "image/png": "[encoded data removed]",
      "text/plain": [
       "<Figure size 576x432 with 2 Axes>"
      ]
     },
     "metadata": {
      "needs_background": "light"
     },
     "output_type": "display_data"
    }
   ],
   "source": [
    "plt.figure(figsize=(8, 6))\n",
    "sns.heatmap(\n",
    "    pd.crosstab( uds.NACCALZP, uds.NACCUDSD, \n",
    "            colnames=['Cognition'], \n",
    "            rownames=['Pathology'],\n",
    "            values = uds['EDUC'],\n",
    "            aggfunc = 'mean',\n",
    "            margins=False).round(2), \n",
    "    annot = True\n",
    ")\n",
    "plt.show()"
   ]
  },
  {
   "cell_type": "code",
   "execution_count": 62,
   "id": "7dc57eff",
   "metadata": {},
   "outputs": [
    {
     "data": {
      "image/png": "[encoded data removed]",
      "text/plain": [
       "<Figure size 576x432 with 2 Axes>"
      ]
     },
     "metadata": {
      "needs_background": "light"
     },
     "output_type": "display_data"
    }
   ],
   "source": [
    "plt.figure(figsize=(8, 6))\n",
    "sns.heatmap(\n",
    "    pd.crosstab( uds.NACCALZP, uds.NACCUDSD, \n",
    "            colnames=['Cognition'], \n",
    "            rownames=['Pathology'],\n",
    "            values = uds['SEX_BIN'],\n",
    "            aggfunc = 'mean',\n",
    "            margins=False).round(2), \n",
    "    annot = True\n",
    ")\n",
    "plt.show()"
   ]
  },
  {
   "cell_type": "code",
   "execution_count": 26,
   "id": "4935666e",
   "metadata": {},
   "outputs": [
    {
     "data": {
      "text/plain": [
       "71.51168514412417"
      ]
     },
     "execution_count": 26,
     "metadata": {},
     "output_type": "execute_result"
    }
   ],
   "source": [
    "#uds[['NACCALZP',\"EDUC\",\"NACCAGE\"  ]].groupby('NACCALZP').mean()\n",
    "\n",
    "uds['NACCAGE'].mean()"
   ]
  },
  {
   "cell_type": "markdown",
   "id": "182c9197",
   "metadata": {},
   "source": [
    "## Impute missing \n",
    "\n",
    "We use the random forest for UDS and MRI and we use mean/ mode imputation for CSF. "
   ]
  },
  {
   "cell_type": "code",
   "execution_count": 13,
   "id": "5a2249e3",
   "metadata": {},
   "outputs": [
    {
     "data": {
      "text/html": [
       "<div>\n",
       "<style scoped>\n",
       "    .dataframe tbody tr th:only-of-type {\n",
       "        vertical-align: middle;\n",
       "    }\n",
       "\n",
       "    .dataframe tbody tr th {\n",
       "        vertical-align: top;\n",
       "    }\n",
       "\n",
       "    .dataframe thead th {\n",
       "        text-align: right;\n",
       "    }\n",
       "</style>\n",
       "<table border=\"1\" class=\"dataframe\">\n",
       "  <thead>\n",
       "    <tr style=\"text-align: right;\">\n",
       "      <th></th>\n",
       "      <th>missing</th>\n",
       "      <th>total</th>\n",
       "      <th>percent</th>\n",
       "    </tr>\n",
       "  </thead>\n",
       "  <tbody>\n",
       "    <tr>\n",
       "      <th>ELATSEV</th>\n",
       "      <td>43620</td>\n",
       "      <td>45100</td>\n",
       "      <td>96.718404</td>\n",
       "    </tr>\n",
       "    <tr>\n",
       "      <th>HALLSEV</th>\n",
       "      <td>43170</td>\n",
       "      <td>45100</td>\n",
       "      <td>95.720621</td>\n",
       "    </tr>\n",
       "    <tr>\n",
       "      <th>DELSEV</th>\n",
       "      <td>41895</td>\n",
       "      <td>45100</td>\n",
       "      <td>92.893570</td>\n",
       "    </tr>\n",
       "    <tr>\n",
       "      <th>MOTSEV</th>\n",
       "      <td>40294</td>\n",
       "      <td>45100</td>\n",
       "      <td>89.343681</td>\n",
       "    </tr>\n",
       "    <tr>\n",
       "      <th>DISNSEV</th>\n",
       "      <td>39664</td>\n",
       "      <td>45100</td>\n",
       "      <td>87.946785</td>\n",
       "    </tr>\n",
       "    <tr>\n",
       "      <th>...</th>\n",
       "      <td>...</td>\n",
       "      <td>...</td>\n",
       "      <td>...</td>\n",
       "    </tr>\n",
       "    <tr>\n",
       "      <th>NACCUDSD</th>\n",
       "      <td>0</td>\n",
       "      <td>45100</td>\n",
       "      <td>0.000000</td>\n",
       "    </tr>\n",
       "    <tr>\n",
       "      <th>SEX</th>\n",
       "      <td>0</td>\n",
       "      <td>45100</td>\n",
       "      <td>0.000000</td>\n",
       "    </tr>\n",
       "    <tr>\n",
       "      <th>NACCVNUM</th>\n",
       "      <td>0</td>\n",
       "      <td>45100</td>\n",
       "      <td>0.000000</td>\n",
       "    </tr>\n",
       "    <tr>\n",
       "      <th>NACCAGE</th>\n",
       "      <td>0</td>\n",
       "      <td>45100</td>\n",
       "      <td>0.000000</td>\n",
       "    </tr>\n",
       "    <tr>\n",
       "      <th>datetime</th>\n",
       "      <td>0</td>\n",
       "      <td>45100</td>\n",
       "      <td>0.000000</td>\n",
       "    </tr>\n",
       "  </tbody>\n",
       "</table>\n",
       "<p>94 rows × 3 columns</p>\n",
       "</div>"
      ],
      "text/plain": [
       "          missing  total    percent\n",
       "ELATSEV     43620  45100  96.718404\n",
       "HALLSEV     43170  45100  95.720621\n",
       "DELSEV      41895  45100  92.893570\n",
       "MOTSEV      40294  45100  89.343681\n",
       "DISNSEV     39664  45100  87.946785\n",
       "...           ...    ...        ...\n",
       "NACCUDSD        0  45100   0.000000\n",
       "SEX             0  45100   0.000000\n",
       "NACCVNUM        0  45100   0.000000\n",
       "NACCAGE         0  45100   0.000000\n",
       "datetime        0  45100   0.000000\n",
       "\n",
       "[94 rows x 3 columns]"
      ]
     },
     "execution_count": 13,
     "metadata": {},
     "output_type": "execute_result"
    }
   ],
   "source": [
    "uds.stb.missing()"
   ]
  },
  {
   "cell_type": "code",
   "execution_count": null,
   "id": "91fd67d4",
   "metadata": {},
   "outputs": [],
   "source": []
  }
 ],
 "metadata": {
  "kernelspec": {
   "display_name": "Python 3 (ipykernel)",
   "language": "python",
   "name": "python3"
  },
  "language_info": {
   "codemirror_mode": {
    "name": "ipython",
    "version": 3
   },
   "file_extension": ".py",
   "mimetype": "text/x-python",
   "name": "python",
   "nbconvert_exporter": "python",
   "pygments_lexer": "ipython3",
   "version": "3.9.7"
  }
 },
 "nbformat": 4,
 "nbformat_minor": 5
}
