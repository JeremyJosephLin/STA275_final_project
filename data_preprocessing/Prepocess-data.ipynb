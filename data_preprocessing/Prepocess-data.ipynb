{
 "cells": [
  {
   "cell_type": "code",
   "execution_count": 1,
   "id": "06f43ed3",
   "metadata": {},
   "outputs": [],
   "source": [
    "import re\n",
    "import pandas as pd\n",
    "import numpy as np\n",
    "import matplotlib.pyplot as plt\n",
    "import warnings\n",
    "from collections import defaultdict, Counter\n",
    "warnings.filterwarnings(\"ignore\")"
   ]
  },
  {
   "cell_type": "markdown",
   "id": "0311c3d2",
   "metadata": {},
   "source": [
    "# UDS data preprocess"
   ]
  },
  {
   "cell_type": "code",
   "execution_count": 2,
   "id": "a8896b6b",
   "metadata": {},
   "outputs": [
    {
     "name": "stdout",
     "output_type": "stream",
     "text": [
      "UDS shape:   (45100, 94)\n"
     ]
    }
   ],
   "source": [
    "# load uds dataset (baseline-first visit, subset features to ~90)\n",
    "uds = pd.read_csv(\"../data/data_raw/investigator_uds_baseline.csv\")\n",
    "uds['datetime'] = pd.to_datetime(uds['datetime'])\n",
    "print(\"UDS shape:  \", uds.shape)\n",
    "\n",
    "# Load UDS dataset feature dictionary\n",
    "uds_dict = pd.read_csv(\"../data/data_dictionary/uds_feature_dictionary_cleaned.csv\")"
   ]
  },
  {
   "cell_type": "markdown",
   "id": "41a94ecd",
   "metadata": {},
   "source": [
    "### Correct UDS Dataframe\n",
    "Crosswalk Study conversion between neuropsychological testing variables from UDS 3.0 to 2.0\n",
    "\n",
    "Convert new test results (i.e. MoCA, MINT) to the old test results (i.e. MMSE, BNT) using the conversion tables above\n",
    "- Convert relevant new results, with corresponding index & column name"
   ]
  },
  {
   "cell_type": "code",
   "execution_count": 3,
   "id": "67748461",
   "metadata": {},
   "outputs": [],
   "source": [
    "def correct_uds(uds):\n",
    "    moca = pd.read_excel('../data/data_raw/NACC Crosswalk Study Conversions.xlsx', sheet_name='MoCA2MMSE', na_values='NaN')\n",
    "    mint = pd.read_excel('../data/data_raw/NACC Crosswalk Study Conversions.xlsx', sheet_name='MINT2BNT')\n",
    "    craft = pd.read_excel('../data/data_raw/NACC Crosswalk Study Conversions.xlsx', sheet_name='Craft2Logic')\n",
    "    numberFN = pd.read_excel('../data/data_raw/NACC Crosswalk Study Conversions.xlsx', sheet_name='Number2DigitFN')\n",
    "    numberFL = pd.read_excel('../data/data_raw/NACC Crosswalk Study Conversions.xlsx', sheet_name='Number2DigitFL')\n",
    "    numberBN = pd.read_excel('../data/data_raw/NACC Crosswalk Study Conversions.xlsx', sheet_name='Number2DigitBN')\n",
    "    numberBL = pd.read_excel('../data/data_raw/NACC Crosswalk Study Conversions.xlsx', sheet_name='Number2DigitBL')\n",
    "    \n",
    "    conv_mmse = pd.DataFrame([moca.iloc[x,1] if x < 31 else np.nan for x in \n",
    "            uds.iloc[(uds['NACCMMSE'] < 0).values]['MOCATOTS'].values], \n",
    "            index=uds.iloc[(uds['NACCMMSE'] < 0).values].index, columns=['NACCMMSE'])\n",
    "    uds['NACCMMSE'].mask(uds['NACCMMSE'] < 0, np.nan, inplace=True)\n",
    "    uds = uds.fillna(conv_mmse)\n",
    "\n",
    "    # MINT --> BNT \n",
    "    conv_bnt = pd.DataFrame([mint.iloc[x,1] if (x < 33 and x > -1) else np.nan for x in \n",
    "                uds.iloc[(uds['BOSTON'] < 0).values]['MINTTOTS'].values], \n",
    "                index=uds.iloc[(uds['BOSTON'] < 0).values].index, columns=['BOSTON'])\n",
    "    uds['BOSTON'].mask(uds['BOSTON'] < 0, np.nan, inplace=True)\n",
    "    uds = uds.fillna(conv_bnt)\n",
    "\n",
    "    # Craft Story 21 --> Logical Memory\n",
    "    conv_logic = pd.DataFrame([craft.iloc[x,1] if x < 26 else np.nan for x in \n",
    "                    uds.iloc[(uds['MEMUNITS'] < 0).values]['CRAFTDRE'].values], \n",
    "                    index=uds.iloc[(uds['MEMUNITS'] < 0).values].index, columns=['MEMUNITS'])\n",
    "    uds['MEMUNITS'].mask(uds['MEMUNITS'] < 0, np.nan, inplace=True)\n",
    "    uds = uds.fillna(conv_logic)\n",
    "\n",
    "    # Number span, forward trials correct --> Digit span, number forward\n",
    "    conv_numFN = pd.DataFrame([numberFN.iloc[x,1] if x < 15 else np.nan for x in \n",
    "                    uds.iloc[(uds['DIGIF'] < 0).values]['DIGFORCT'].values], \n",
    "                    index=uds.iloc[(uds['DIGIF'] < 0).values].index, columns=['DIGIF'])\n",
    "    uds['DIGIF'].mask(uds['DIGIF'] < 0, np.nan, inplace=True)\n",
    "    uds = uds.fillna(conv_numFN)\n",
    "\n",
    "    # Number span, forward length --> Digit span, length forward\n",
    "    conv_numFL = pd.DataFrame([numberFL.iloc[x-3,1] if x < 10 and x > 2 else (x if x == 0 else np.nan)\n",
    "                    for x in uds.iloc[(uds['DIGIFLEN'] < 0).values]['DIGFORSL'].values], \n",
    "                    index=uds.iloc[(uds['DIGIFLEN'] < 0).values].index, columns=['DIGIFLEN'])\n",
    "    uds['DIGIFLEN'].mask(uds['DIGIFLEN'] < 0, np.nan, inplace=True)\n",
    "    uds = uds.fillna(conv_numFL)\n",
    "\n",
    "    # Number span, backward trials correct --> Digit span, number backward\n",
    "    conv_numBN = pd.DataFrame([numberBN.iloc[x,1] if x < 15 else np.nan for x in \n",
    "                    uds.iloc[(uds['DIGIB'] < 0).values]['DIGBACCT'].values], \n",
    "                    index=uds.iloc[(uds['DIGIB'] < 0).values].index, columns=['DIGIB'])\n",
    "    uds['DIGIB'].mask(uds['DIGIB'] < 0, np.nan, inplace=True)\n",
    "    uds = uds.fillna(conv_numBN)\n",
    "\n",
    "    # Number span, backward length --> Digit span, length backward\n",
    "    conv_numBL = pd.DataFrame([numberBL.iloc[x-1,1] if x < 9 and x > 1 else (x if x == 0 else np.nan)\n",
    "                    for x in uds.iloc[(uds['DIGIBLEN'] < 0).values]['DIGBACLS'].values], \n",
    "                    index=uds.iloc[(uds['DIGIBLEN'] < 0).values].index, columns=['DIGIBLEN'])\n",
    "    uds['DIGIBLEN'].mask(uds['DIGIBLEN'] < 0, np.nan, inplace=True)\n",
    "    uds = uds.fillna(conv_numBL)\n",
    "    return uds"
   ]
  },
  {
   "cell_type": "code",
   "execution_count": 4,
   "id": "445a9e48",
   "metadata": {},
   "outputs": [
    {
     "name": "stdout",
     "output_type": "stream",
     "text": [
      "Original UDS Shape:  (45100, 94)\n",
      "After correction UDS Shape:  (45100, 94)\n"
     ]
    }
   ],
   "source": [
    "print(\"Original UDS Shape: \", uds.shape)\n",
    "uds = correct_uds(uds)\n",
    "print(\"After correction UDS Shape: \", uds.shape)"
   ]
  },
  {
   "cell_type": "markdown",
   "id": "bc00a4b6",
   "metadata": {},
   "source": [
    "### Mask UDS Missing\n",
    "Check handbook for missing data encoding\n",
    "\n",
    "UDS missing might due to multiple reasons:\n",
    " - EDUC: 99 (Unknown)\n",
    " - CDF: -4 (Not available)\n",
    " - GDS:  9 (Did not answer); -4 (Not available); 88 (Could not be calculated)\n",
    " - FAS, NPI: 99 (Unknown), -4 (Not available) \n",
    " - NEURO: 95/995 (Physical problem), 96/9996 (Cognitive/behavior problem), 97/997 (Other problem), 98/998 (Verbal Refusal), 99 (Unknown), 88 (Score not calculated; missing at least one MMSE item), -4 (Not available), "
   ]
  },
  {
   "cell_type": "code",
   "execution_count": 5,
   "id": "2fe704af",
   "metadata": {},
   "outputs": [],
   "source": [
    "def mask_uds_na(df):\n",
    "    uds['EDUC'] = uds['EDUC'].mask(uds['EDUC'] == 99, np.nan)\n",
    "    for var in uds_dict[uds_dict['Category'] == 'CDF']['VariableName']:\n",
    "        uds[var] = uds[var].mask(uds[var] == -4, np.nan)\n",
    "    for var in uds_dict[uds_dict['Category'] == 'GDS']['VariableName']:\n",
    "        if var != \"NACCGDS\":\n",
    "            uds[var] = uds[var].mask(uds[var].isin([-4, 9]), np.nan)\n",
    "        else:\n",
    "            uds[var] = uds[var].mask(uds[var].isin([-4, 88]), np.nan)\n",
    "    for var in uds_dict[uds_dict['Category'] == 'FAS']['VariableName']:\n",
    "        uds[var] = uds[var].mask(uds[var].isin([8, 9, -4]), np.nan)\n",
    "    for var in uds_dict[uds_dict['Category'] == 'NPI']['VariableName']:\n",
    "        uds[var] = uds[var].mask(uds[var].isin([8, 9, -4]), np.nan)\n",
    "    for var in uds_dict[uds_dict['Category'] == 'NEURO']['VariableName']:\n",
    "        if var not in ['TRAILA', \"TRAILB\"]:\n",
    "            uds[var] = uds[var].mask(uds[var].isin([88, 95, 96, 97, 98, 99, -4]), np.nan)\n",
    "        else:\n",
    "            uds[var] = uds[var].mask(uds[var].isin([995, 996, 997, 998, -4]), np.nan)\n",
    "    return uds\n",
    "\n",
    "def merge_missing_rate(df, df_dict):\n",
    "    if \"MissingRates\" not in df_dict:\n",
    "        tmp = df.isna().mean(axis=0).to_frame().reset_index()\n",
    "        tmp.columns = ['VariableName', \"MissingRates\"]\n",
    "        df_dict = df_dict.merge(tmp, on='VariableName', how='left')\n",
    "    return df_dict"
   ]
  },
  {
   "cell_type": "code",
   "execution_count": 6,
   "id": "3d0c04f0",
   "metadata": {},
   "outputs": [
    {
     "name": "stdout",
     "output_type": "stream",
     "text": [
      "Before mapping, number of variables contained missing:   9\n",
      "After mapping, number of variables contained missing:   78\n"
     ]
    }
   ],
   "source": [
    "print(\"Before mapping, number of variables contained missing:  \", (uds.isna().sum()>0).sum())\n",
    "uds = mask_uds_na(uds)\n",
    "uds_dict = merge_missing_rate(uds, uds_dict)\n",
    "uds_dict.to_csv(\"../data/data_dictionary/uds_feature_dictionary_cleaned.csv\", index=False)\n",
    "print(\"After mapping, number of variables contained missing:  \", (uds.isna().sum()>0).sum())"
   ]
  },
  {
   "cell_type": "markdown",
   "id": "834f88e5",
   "metadata": {},
   "source": [
    "### Encode Target variable\n",
    "- NACCUDSD encodes: 1-Normal, 2-Impaired-not-MCI, 3-MCI, 4-Dementia\n",
    "- NACCALZP: 1-2 AD-primary or contributuing, (3,7)-AD Non-contributing/CI but not AD, 8-Normal\n",
    "\n",
    "Depending on the research goal, we consider the following two types of multi-class classification problems:\n",
    "- 1. Normal, MCI-AD, Dementia-AD: three classification problems, both are AD related\n",
    "- 2. Normal, MCI-AD, MCI-NonAD, Dementia-AD, Dementia-NonAD: Five-classification prblems for all types of MCI\n",
    "\n",
    "Note we do not consider UDSD=2 cases. Patients are either nomal, MCI, or dementia. "
   ]
  },
  {
   "cell_type": "code",
   "execution_count": 7,
   "id": "465e55c7",
   "metadata": {},
   "outputs": [
    {
     "name": "stdout",
     "output_type": "stream",
     "text": [
      "AD three classes number of people:   (34265,)\n",
      "Counter({'Healthy': 17772, 'Dementia-AD': 12002, nan: 10835, 'MCI-AD': 4491}) \n",
      "\n",
      "AD Five classes number of people:   (43107,)\n",
      "Counter({'Healthy': 17772, 'Dementia-AD': 12002, 'MCI-NonAD': 5361, 'MCI-AD': 4491, 'Dementia-NonAD': 3481, nan: 1993}) \n",
      "\n",
      "Saving UDS Successful...\n"
     ]
    }
   ],
   "source": [
    "assert((uds[(uds['NACCUDSD'] == 1) & (uds['NACCALZP'] != 8)].shape[0] == 0) &\n",
    "       (uds[(uds['NACCALZP'] == 8) & (uds['NACCUDSD'] != 1)].shape[0] == 0))\n",
    "uds['NACCAD3'] = uds[['NACCUDSD', 'NACCALZP']].apply(\n",
    "    lambda x: \"Healthy\" if x['NACCUDSD'] == 1 else \n",
    "              \"MCI-AD\" if (x['NACCUDSD'] == 3) & (x['NACCALZP'] in [1,2]) else\n",
    "              \"Dementia-AD\" if (x['NACCUDSD'] == 4) & (x['NACCALZP'] in [1,2]) else\n",
    "              np.nan, axis=1)\n",
    "uds['NACCAD5'] = uds[['NACCUDSD', 'NACCALZP']].apply(\n",
    "    lambda x: \"Healthy\" if x['NACCUDSD'] == 1 else \n",
    "              \"MCI-AD\" if (x['NACCUDSD'] == 3) & (x['NACCALZP'] in [1,2]) else\n",
    "              \"MCI-NonAD\" if (x['NACCUDSD'] == 3) & (x['NACCALZP'] in [3, 7]) else\n",
    "              \"Dementia-AD\" if (x['NACCUDSD'] == 4) & (x['NACCALZP'] in [1,2]) else\n",
    "              \"Dementia-NonAD\" if (x['NACCUDSD'] == 4) & (x['NACCALZP'] in [3,7]) else\n",
    "              np.nan, axis=1)\n",
    "print(\"AD three classes number of people:  \", uds['NACCAD3'].dropna().shape)\n",
    "print(Counter(uds['NACCAD3']),'\\n')\n",
    "print(\"AD Five classes number of people:  \", uds['NACCAD5'].dropna().shape)\n",
    "print(Counter(uds['NACCAD5']),'\\n')\n",
    "\n",
    "uds.to_csv(\"../data/data_cleaned/uds.csv\", index = False)\n",
    "print(\"Saving UDS Successful...\")"
   ]
  },
  {
   "cell_type": "markdown",
   "id": "dd9b9833",
   "metadata": {},
   "source": [
    "# MRI Data Preprocess"
   ]
  },
  {
   "cell_type": "code",
   "execution_count": 8,
   "id": "2f31f719",
   "metadata": {},
   "outputs": [
    {
     "name": "stdout",
     "output_type": "stream",
     "text": [
      "MRI shape:   (11273, 170)\n"
     ]
    }
   ],
   "source": [
    "# Load mri dataset, and remove couple features\n",
    "mri_raw = pd.read_csv('../data/data_raw/investigator_mri_nacc57.csv')\n",
    "mri_features_removed = ['NACCDICO','NACCNIFT','NACCMRFI','NACCNMRI','NACCMNUM','NACCMRSA','MRIMANU',\n",
    "                    'MRIMODL','NACCMRIA', 'NACCMRDY', 'MRIT1', 'MRIT2', 'MRIDTI','MRIDWI', 'MRIFLAIR', \n",
    "                    'MRIOTHER', 'MRIFIELD', 'NACCMVOL', 'NACCADC']\n",
    "mri = mri_raw.loc[:, ~mri_raw.columns.isin(mri_features_removed)] \n",
    "mri.rename(columns={'MRIYR': 'year', 'MRIMO': 'month', 'MRIDY': 'day'}, inplace=True)\n",
    "mri['datetime'] = pd.to_datetime(mri[['year','month','day']],yearfirst=True,infer_datetime_format=True)\n",
    "mri = mri.drop(['year','month','day'], axis=1)\n",
    "print(\"MRI shape:  \", mri.shape)\n",
    "\n",
    "mri_dict = pd.read_csv(\"../data/data_dictionary/mri_feature_dictionary_cleaned.csv\")"
   ]
  },
  {
   "cell_type": "markdown",
   "id": "a8e485e8",
   "metadata": {},
   "source": [
    "### Mask MRI Missing\n",
    "Check handbook for missing data encoding\n",
    "- MRI missing is all due to data not available / not applicable\n",
    "- Discard patients having missing feature rate larger than 10%"
   ]
  },
  {
   "cell_type": "code",
   "execution_count": 9,
   "id": "2de1445a",
   "metadata": {},
   "outputs": [],
   "source": [
    "def mask_mri_na(df):\n",
    "    # MRI ROIs missing values (see Handbook)\n",
    "    for code in [8.8888, 88.8888, 888.8888, 8888.888, 8888.8888,\n",
    "                 9.999, 99.9999, 999.9999, 9999.999, 9999.9999]:\n",
    "        df = df.mask(df == code, np.nan)\n",
    "    return df"
   ]
  },
  {
   "cell_type": "code",
   "execution_count": 10,
   "id": "6d1e2b5d",
   "metadata": {},
   "outputs": [
    {
     "name": "stdout",
     "output_type": "stream",
     "text": [
      "Before mapping, number of variables contained missing:   0\n",
      "After mapping, number of variables contained missing:   167\n"
     ]
    }
   ],
   "source": [
    "print(\"Before mapping, number of variables contained missing:  \", (mri.isna().sum()>0).sum())\n",
    "mri = mask_mri_na(mri)\n",
    "mri_dict = merge_missing_rate(mri, mri_dict)\n",
    "mri_dict.to_csv(\"../data/data_dictionary/mri_feature_dictionary_cleaned.csv\", index = False)\n",
    "print(\"After mapping, number of variables contained missing:  \", (mri.isna().sum()>0).sum())"
   ]
  },
  {
   "cell_type": "code",
   "execution_count": 11,
   "id": "8e27b804",
   "metadata": {},
   "outputs": [
    {
     "name": "stdout",
     "output_type": "stream",
     "text": [
      "(Missing Rate Threshold, Number of Patients)\n"
     ]
    },
    {
     "data": {
      "text/plain": [
       "{0.1: 4588,\n",
       " 0.2: 4589,\n",
       " 0.3: 4589,\n",
       " 0.4: 4589,\n",
       " 0.5: 4589,\n",
       " 0.6: 4589,\n",
       " 0.7: 4590,\n",
       " 0.8: 4590,\n",
       " 0.9: 4590}"
      ]
     },
     "execution_count": 11,
     "metadata": {},
     "output_type": "execute_result"
    }
   ],
   "source": [
    "print(\"(Missing Rate Threshold, Number of Patients)\")\n",
    "{round(r, 2): ((mri.isna().sum(axis=1) / 170) < r).sum() for r in np.arange(0.1, 1, 0.1)}"
   ]
  },
  {
   "cell_type": "code",
   "execution_count": 12,
   "id": "9e1a4ed4",
   "metadata": {},
   "outputs": [
    {
     "name": "stdout",
     "output_type": "stream",
     "text": [
      "Number of unique patients:   2873\n",
      "MRI shape:  (4588, 170) (all individuals having missing values less than 10%)\n"
     ]
    }
   ],
   "source": [
    "# Missing rate less than 10% (all 2873 patients are in UDS)\n",
    "mri = mri[(mri.isna().sum(axis=1) / 170) < 0.1]\n",
    "print(\"Number of unique patients:  \", mri['NACCID'].nunique())\n",
    "print(\"MRI shape:  {} (all individuals having missing values less than 10%)\".format(mri.shape))"
   ]
  },
  {
   "cell_type": "markdown",
   "id": "8abfa476",
   "metadata": {},
   "source": [
    "### MRI Record Match with UDS Baseline\n",
    "- Only keep MRI records within a year region of their base visit dates\n",
    "- Previously each individual might have multiple MRI measurements. Here we only select the record that is cloest to the baseline visit (each NACCID corresponds to a unique measurement)"
   ]
  },
  {
   "cell_type": "code",
   "execution_count": 13,
   "id": "67ffd6c4",
   "metadata": {},
   "outputs": [
    {
     "name": "stdout",
     "output_type": "stream",
     "text": [
      "Number of overlap between UDS and MRI:   2873\n",
      "Number of patients tested MRI within a year from baseline:   1811\n",
      "After preprocess, MRI shape:   (2873, 173)\n",
      "MRI Saving Successful...\n"
     ]
    }
   ],
   "source": [
    "# Find MRI records within a year from UDS baseline visit\n",
    "mri_uds_time = mri.merge(uds, on='NACCID', how='inner', suffixes=(\"_MRI\", \"_UDS\"))[['NACCID','datetime_MRI', 'datetime_UDS']]\n",
    "mri_uds_time['timediff'] = np.abs((mri_uds_time['datetime_MRI'] - mri_uds_time['datetime_UDS']).dt.days)\n",
    "mri_uds_time = mri_uds_time.loc[mri_uds_time.groupby('NACCID')['timediff'].idxmin(),]\n",
    "mri_uds_time['within-a-year'] =  (mri_uds_time['timediff'] < 365)\n",
    "mri_uds_time.rename(columns={'datetime_MRI': 'datetime'}, inplace=True)\n",
    "mri = mri.merge(mri_uds_time, on=['NACCID', 'datetime'], how='inner')\n",
    "print(\"Number of overlap between UDS and MRI:  \", mri_uds_time.shape[0])\n",
    "print(\"Number of patients tested MRI within a year from baseline:  \", mri_uds_time['within-a-year'].sum())\n",
    "print(\"After preprocess, MRI shape:  \", mri.shape)\n",
    "\n",
    "mri.to_csv(\"../data/data_cleaned/mri.csv\", index = False)\n",
    "print(\"MRI Saving Successful...\")"
   ]
  },
  {
   "cell_type": "markdown",
   "id": "6a5e2caf",
   "metadata": {},
   "source": [
    "# CSF Data Preprocess\n",
    "- Each patients might have several lumbar puncture results. We notice that under one lumbar puncture record, the patient might have ABeta, TTau, PTau assays at different dates. Thus, we use the CSFLP dates as the standard record time. We also take one ABeta, TTau, PTau result that is closet to the baseline visit (again, unde the same record, the assay dates might be different). As such, we have a unique CSF record for each patient. "
   ]
  },
  {
   "cell_type": "code",
   "execution_count": 14,
   "id": "32054cf0",
   "metadata": {},
   "outputs": [
    {
     "name": "stdout",
     "output_type": "stream",
     "text": [
      "CSF shape:   (3017, 23)\n"
     ]
    }
   ],
   "source": [
    "# Load csf data\n",
    "csf = pd.read_csv(\"../data/data_raw/investigator_fcsf_nacc57.csv\")\n",
    "print(\"CSF shape:  \", csf.shape)"
   ]
  },
  {
   "cell_type": "code",
   "execution_count": 15,
   "id": "2a659ef6",
   "metadata": {},
   "outputs": [
    {
     "name": "stdout",
     "output_type": "stream",
     "text": [
      "ABeta tested patient:   2180\n",
      "PTau tested patient:   1992\n",
      "TTau tested patient:   2111\n"
     ]
    }
   ],
   "source": [
    "csf.rename(columns={'CSFLPYR': 'year', 'CSFLPMO': 'month', 'CSFLPDY': 'day'}, inplace=True)\n",
    "csf['datetime'] = pd.to_datetime(csf[['year','month','day']],yearfirst=True,infer_datetime_format=True)\n",
    "csf = csf.drop(['month', 'day', 'year',\n",
    "                'CSFABMO', 'CSFABDY', 'CSFABYR',\n",
    "                'CSFPTMO', 'CSFPTDY', 'CSFPTYR', \n",
    "                'CSFTTMO', 'CSFTTDY', 'CSFTTYR', \n",
    "                'CSFTTMDX','CSFABMDX', 'CSFPTMDX'], axis=1)\n",
    "print(\"ABeta tested patient:  \", csf[~csf['CSFABETA'].isna()]['NACCID'].nunique())\n",
    "print(\"PTau tested patient:  \", csf[~csf['CSFPTAU'].isna()]['NACCID'].nunique())\n",
    "print(\"TTau tested patient:  \", csf[~csf['CSFTTAU'].isna()]['NACCID'].nunique())"
   ]
  },
  {
   "cell_type": "code",
   "execution_count": 16,
   "id": "26f45a3c",
   "metadata": {},
   "outputs": [
    {
     "data": {
      "image/png": "[encoded data removed]",
      "text/plain": [
       "<Figure size 1440x288 with 3 Axes>"
      ]
     },
     "metadata": {
      "needs_background": "light"
     },
     "output_type": "display_data"
    },
    {
     "name": "stdout",
     "output_type": "stream",
     "text": [
      "(3017, 4) (2719, 4) (2863, 4)\n"
     ]
    }
   ],
   "source": [
    "csfabeta = csf[['NACCID', 'datetime', 'CSFABETA', 'CSFABMD']].dropna(subset = ['CSFABETA'])\n",
    "csfptau = csf[['NACCID', 'datetime',  'CSFPTAU','CSFPTMD']].dropna(subset = ['CSFPTAU'])\n",
    "csfttau = csf[['NACCID', 'datetime', 'CSFTTAU', 'CSFTTMD']].dropna(subset = ['CSFTTAU'])\n",
    "protein_name = ['Abeta', 'p-tau', 't-tau']\n",
    "fig, axes = plt.subplots (1, 3, figsize = (20, 4))\n",
    "for i, df in enumerate([csfabeta, csfptau, csfttau]):\n",
    "    for assay_method in df.iloc[:,3].unique():\n",
    "        axes[i].hist(df[df.iloc[:,3]==assay_method].iloc[:,2], bins=100, alpha=0.3, label = assay_method)\n",
    "    axes[i].legend()\n",
    "    axes[i].set_title(protein_name[i], fontsize = 16)\n",
    "plt.show()\n",
    "print(csfabeta.shape, csfptau.shape, csfttau.shape)"
   ]
  },
  {
   "cell_type": "code",
   "execution_count": 17,
   "id": "f14c077c",
   "metadata": {},
   "outputs": [
    {
     "name": "stdout",
     "output_type": "stream",
     "text": [
      "ABeta tested patient:   (2180, 6)\n",
      "PTau tested patient:   (2111, 6)\n",
      "TTau tested patient:   (1992, 6)\n",
      "Merged shape:  (2180, 7)\n",
      "CSF Saving Successful...\n"
     ]
    }
   ],
   "source": [
    "csfabeta_merged = csfabeta.merge(uds[['NACCID', 'datetime']], on=['NACCID'], suffixes=(\"_csf\", \"_uds\"), how='inner')\n",
    "csfabeta_merged['time_diff'] = np.abs((csfabeta_merged['datetime_csf'] - csfabeta_merged['datetime_uds']).dt.days)\n",
    "csfabeta_merged = csfabeta_merged.loc[csfabeta_merged.groupby('NACCID')['time_diff'].idxmin(), ]\n",
    "print(\"ABeta tested patient:  \", csfabeta_merged.shape)\n",
    "\n",
    "csfttau_merged = csfttau.merge(uds[['NACCID', 'datetime']], on=['NACCID'], suffixes=(\"_csf\", \"_uds\"), how='inner')\n",
    "csfttau_merged['time_diff'] = np.abs((csfttau_merged['datetime_csf'] - csfttau_merged['datetime_uds']).dt.days)\n",
    "csfttau_merged = csfttau_merged.loc[csfttau_merged.groupby('NACCID')['time_diff'].idxmin(), ]\n",
    "print(\"PTau tested patient:  \", csfttau_merged.shape)\n",
    "\n",
    "csfptau_merged = csfptau.merge(uds[['NACCID', 'datetime']], on=['NACCID'], suffixes=(\"_csf\", \"_uds\"), how='inner')\n",
    "csfptau_merged['time_diff'] = np.abs((csfptau_merged['datetime_csf'] - csfptau_merged['datetime_uds']).dt.days)\n",
    "csfptau_merged = csfptau_merged.loc[csfptau_merged.groupby('NACCID')['time_diff'].idxmin(), ]\n",
    "print(\"TTau tested patient:  \", csfptau_merged.shape)\n",
    "\n",
    "csf_merged = csfabeta_merged[['NACCID', 'CSFABETA', 'CSFABMD']].merge(\n",
    "    csfttau_merged[['NACCID', 'CSFTTAU', 'CSFTTMD']], on=\"NACCID\", how='outer')\n",
    "csf_merged = csf_merged.merge(csfptau_merged[['NACCID', 'CSFPTAU', 'CSFPTMD']], on=\"NACCID\", how='outer')\n",
    "\n",
    "print(\"Merged shape: \", csf_merged.shape)\n",
    "\n",
    "csf_merged.to_csv(\"../data/data_cleaned/csf.csv\", index = False)\n",
    "print(\"CSF Saving Successful...\")"
   ]
  },
  {
   "cell_type": "code",
   "execution_count": 18,
   "id": "e5406bbb",
   "metadata": {},
   "outputs": [],
   "source": [
    "# csfabeta = csf[['NACCID', 'CSFLPMO', 'CSFLPDY', 'CSFLPYR', 'CSFABETA', 'CSFABMO', 'CSFABDY', 'CSFABYR' , 'CSFABMD', 'CSFABMDX']]\n",
    "# csfptau = csf[['NACCID', 'CSFLPMO', 'CSFLPDY', 'CSFLPYR', 'CSFPTAU', 'CSFPTMO', 'CSFPTDY', 'CSFPTYR', 'CSFPTMD', 'CSFPTMDX']]\n",
    "# csfttau = csf[['NACCID', 'CSFLPMO', 'CSFLPDY', 'CSFLPYR', 'CSFTTAU',  'CSFTTMO', 'CSFTTDY', 'CSFTTYR', 'CSFTTMD', 'CSFTTMDX']]"
   ]
  }
 ],
 "metadata": {
  "kernelspec": {
   "display_name": "Python 3 (ipykernel)",
   "language": "python",
   "name": "python3"
  },
  "language_info": {
   "codemirror_mode": {
    "name": "ipython",
    "version": 3
   },
   "file_extension": ".py",
   "mimetype": "text/x-python",
   "name": "python",
   "nbconvert_exporter": "python",
   "pygments_lexer": "ipython3",
   "version": "3.9.7"
  }
 },
 "nbformat": 4,
 "nbformat_minor": 5
}
