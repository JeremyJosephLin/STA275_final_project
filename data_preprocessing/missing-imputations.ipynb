{
 "cells": [
  {
   "cell_type": "code",
   "execution_count": 1,
   "id": "06f43ed3",
   "metadata": {},
   "outputs": [],
   "source": [
    "import re\n",
    "import pandas as pd\n",
    "import numpy as np\n",
    "import matplotlib.pyplot as plt\n",
    "import warnings\n",
    "from collections import defaultdict, Counter\n",
    "warnings.filterwarnings(\"ignore\")"
   ]
  },
  {
   "cell_type": "markdown",
   "id": "1cb8f865",
   "metadata": {},
   "source": [
    "## Load dataset"
   ]
  },
  {
   "cell_type": "code",
   "execution_count": 2,
   "id": "6eacc711",
   "metadata": {},
   "outputs": [
    {
     "name": "stdout",
     "output_type": "stream",
     "text": [
      "UDS shape:   (45100, 94)\n",
      "MRI shape:   (11273, 172)\n",
      "CSF shape:   (3017, 23)\n"
     ]
    }
   ],
   "source": [
    "# load uds dataset (baseline-first visit, subset features to ~90)\n",
    "uds = pd.read_csv(\"../data/investigator_uds_baseline.csv\")\n",
    "print(\"UDS shape:  \", uds.shape)\n",
    "\n",
    "# Load mri dataset, and remove couple features\n",
    "mri_raw = pd.read_csv('../data/investigator_mri_nacc57.csv')\n",
    "mri_features_removed = ['NACCDICO','NACCNIFT','NACCMRFI','NACCNMRI','NACCMNUM','NACCMRSA','MRIMANU',\n",
    "                    'MRIMODL','NACCMRIA', 'NACCMRDY', 'MRIT1', 'MRIT2', 'MRIDTI','MRIDWI', 'MRIFLAIR', \n",
    "                    'MRIOTHER', 'MRIFIELD', 'NACCMVOL', 'NACCADC']\n",
    "mri = mri_raw.loc[:, ~mri_raw.columns.isin(mri_features_removed)] \n",
    "print(\"MRI shape:  \", mri.shape)\n",
    "\n",
    "# Load csf data\n",
    "csf = pd.read_csv(\"../data/investigator_fcsf_nacc57.csv\")\n",
    "print(\"CSF shape:  \", csf.shape)\n",
    "\n",
    "# Load UDS dataset feature dictionary\n",
    "uds_dict = pd.read_csv(\"../data/data_dictionary/uds_feature_dictionary_cleaned.csv\")\n",
    "mri_dict = pd.read_csv(\"../data/data_dictionary/mri_feature_dictionary_cleaned.csv\")"
   ]
  },
  {
   "cell_type": "markdown",
   "id": "a8e485e8",
   "metadata": {},
   "source": [
    "## Check missing rate\n",
    "Check handbook for missing data encoding\n",
    "- MRI missing is all due to data not available / not applicable\n",
    "- But UDS missing might due to multiple reasons:\n",
    " - EDUC: 99 (Unknown)\n",
    " - CDF: -4 (Not available)\n",
    " - GDS:  9 (Did not answer); -4 (Not available); 88 (Could not be calculated)\n",
    " - FAS, NPI: 99 (Unknown), -4 (Not available) \n",
    " - NEURO: 95/995 (Physical problem), 96/9996 (Cognitive/behavior problem), 97/997 (Other problem), 98/998 (Verbal Refusal), 99 (Unknown), 88 (Score not calculated; missing at least one MMSE item), -4 (Not available), "
   ]
  },
  {
   "cell_type": "code",
   "execution_count": 3,
   "id": "2de1445a",
   "metadata": {},
   "outputs": [],
   "source": [
    "def mask_uds_na(df):\n",
    "    uds['EDUC'] = uds['EDUC'].mask(uds['EDUC'] == 99, np.nan)\n",
    "    for var in uds_dict[uds_dict['Category'] == 'CDF']['VariableName']:\n",
    "        uds[var] = uds[var].mask(uds[var] == -4, np.nan)\n",
    "    for var in uds_dict[uds_dict['Category'] == 'GDS']['VariableName']:\n",
    "        if var != \"NACCGDS\":\n",
    "            uds[var] = uds[var].mask(uds[var].isin([-4, 9]), np.nan)\n",
    "        else:\n",
    "            uds[var] = uds[var].mask(uds[var].isin([-4, 88]), np.nan)\n",
    "    for var in uds_dict[uds_dict['Category'] == 'FAS']['VariableName']:\n",
    "        uds[var] = uds[var].mask(uds[var].isin([8, 9, -4]), np.nan)\n",
    "    for var in uds_dict[uds_dict['Category'] == 'NPI']['VariableName']:\n",
    "        uds[var] = uds[var].mask(uds[var].isin([8, 9, -4]), np.nan)\n",
    "    for var in uds_dict[uds_dict['Category'] == 'NEURO']['VariableName']:\n",
    "        if var not in ['TRAILA', \"TRAILB\"]:\n",
    "            uds[var] = uds[var].mask(uds[var].isin([88, 95, 96, 97, 98, 99, -4]), np.nan)\n",
    "        else:\n",
    "            uds[var] = uds[var].mask(uds[var].isin([995, 996, 997, 998, -4]), np.nan)\n",
    "    return uds\n",
    "\n",
    "def mask_mri_na(df):\n",
    "    # MRI ROIs missing values (see Handbook)\n",
    "    for code in [8.8888, 88.8888, 888.8888, 8888.888, 8888.8888,\n",
    "                 9.999, 99.9999, 999.9999, 9999.999, 9999.9999]:\n",
    "        df = df.mask(df == code, np.nan)\n",
    "    return df\n",
    "\n",
    "def merge_missing_rate(df, df_dict):\n",
    "    if \"MissingRates\" not in df_dict:\n",
    "        tmp = df.isna().mean(axis=0).to_frame().reset_index()\n",
    "        tmp.columns = ['VariableName', \"MissingRates\"]\n",
    "        df_dict = df_dict.merge(tmp, on='VariableName', how='left')\n",
    "    return df_dict\n"
   ]
  },
  {
   "cell_type": "code",
   "execution_count": 4,
   "id": "6d1e2b5d",
   "metadata": {},
   "outputs": [],
   "source": [
    "uds = mask_uds_na(uds)\n",
    "uds_dict = merge_missing_rate(uds, uds_dict)\n",
    "uds_dict.to_csv(\"../data/data_dictionary/uds_feature_dictionary_cleaned.csv\", index=False)\n",
    "\n",
    "mri = mask_mri_na(mri)\n",
    "mri_dict = merge_missing_rate(mri, mri_dict)\n",
    "mri_dict.to_csv(\"../data/data_dictionary/mri_feature_dictionary_cleaned.csv\", index = False)"
   ]
  },
  {
   "cell_type": "markdown",
   "id": "f325f9f9",
   "metadata": {},
   "source": [
    "# Missing Values Imputation\n",
    "TO BE CONTINUED"
   ]
  },
  {
   "cell_type": "code",
   "execution_count": null,
   "id": "d4e5455b",
   "metadata": {},
   "outputs": [],
   "source": []
  }
 ],
 "metadata": {
  "kernelspec": {
   "display_name": "Python 3 (ipykernel)",
   "language": "python",
   "name": "python3"
  },
  "language_info": {
   "codemirror_mode": {
    "name": "ipython",
    "version": 3
   },
   "file_extension": ".py",
   "mimetype": "text/x-python",
   "name": "python",
   "nbconvert_exporter": "python",
   "pygments_lexer": "ipython3",
   "version": "3.9.7"
  }
 },
 "nbformat": 4,
 "nbformat_minor": 5
}
