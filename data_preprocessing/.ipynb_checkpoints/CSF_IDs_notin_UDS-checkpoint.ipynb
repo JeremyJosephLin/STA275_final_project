{
 "cells": [
  {
   "cell_type": "code",
   "execution_count": 2,
   "id": "94e962b1",
   "metadata": {},
   "outputs": [],
   "source": [
    "import re\n",
    "import pandas as pd\n",
    "import numpy as np\n",
    "import matplotlib.pyplot as plt\n",
    "import warnings\n",
    "from collections import defaultdict, Counter\n",
    "warnings.filterwarnings(\"ignore\")"
   ]
  },
  {
   "cell_type": "code",
   "execution_count": 3,
   "id": "dbc33f5c",
   "metadata": {},
   "outputs": [
    {
     "name": "stdout",
     "output_type": "stream",
     "text": [
      "UDS shape:   (45100, 94)\n"
     ]
    }
   ],
   "source": [
    "# load uds dataset (baseline-first visit, subset features to ~90)\n",
    "uds = pd.read_csv(\"../data/data_raw/investigator_uds_baseline.csv\")\n",
    "uds['datetime'] = pd.to_datetime(uds['datetime'])\n",
    "print(\"UDS shape:  \", uds.shape)"
   ]
  },
  {
   "cell_type": "code",
   "execution_count": 5,
   "id": "4d800c01",
   "metadata": {},
   "outputs": [
    {
     "name": "stdout",
     "output_type": "stream",
     "text": [
      "MRI shape:   (11273, 191)\n"
     ]
    }
   ],
   "source": [
    "# Load mri dataset, and remove couple features\n",
    "mri_raw = pd.read_csv('../data/data_raw/investigator_mri_nacc57.csv')\n",
    "print(\"MRI shape:  \", mri_raw.shape)\n"
   ]
  },
  {
   "cell_type": "code",
   "execution_count": 6,
   "id": "3bc2ded5",
   "metadata": {},
   "outputs": [
    {
     "name": "stdout",
     "output_type": "stream",
     "text": [
      "CSF shape:   (3017, 23)\n"
     ]
    }
   ],
   "source": [
    "# Load csf data\n",
    "csf = pd.read_csv(\"../data/data_raw/investigator_fcsf_nacc57.csv\")\n",
    "print(\"CSF shape:  \", csf.shape)"
   ]
  },
  {
   "cell_type": "markdown",
   "id": "54daada3",
   "metadata": {},
   "source": [
    "#### Look who is in CSF but not in UDS. \n",
    "\n",
    "Am thinking that maybe in the raw data the IDs in CSF were a subset of UDS but in the data cleaning process we acidentally got rid of some IDs from UDS but not from CSF. \n",
    "\n",
    "If i do an inner join between CSF and UDS based on NACCID we would expect that there are the same number of unique IDs."
   ]
  },
  {
   "cell_type": "code",
   "execution_count": 10,
   "id": "c18ded85",
   "metadata": {},
   "outputs": [
    {
     "data": {
      "text/plain": [
       "(2180,)"
      ]
     },
     "execution_count": 10,
     "metadata": {},
     "output_type": "execute_result"
    }
   ],
   "source": [
    "CSF_IDs_unique = csf['NACCID'].drop_duplicates()\n",
    "CSF_IDs_unique.shape"
   ]
  },
  {
   "cell_type": "code",
   "execution_count": 11,
   "id": "04a53fd0",
   "metadata": {},
   "outputs": [
    {
     "data": {
      "text/plain": [
       "(45100,)"
      ]
     },
     "execution_count": 11,
     "metadata": {},
     "output_type": "execute_result"
    }
   ],
   "source": [
    "UDS_IDs_unique = uds['NACCID'].drop_duplicates()\n",
    "UDS_IDs_unique.shape"
   ]
  },
  {
   "cell_type": "code",
   "execution_count": 12,
   "id": "91179c51",
   "metadata": {},
   "outputs": [
    {
     "data": {
      "text/html": [
       "<div>\n",
       "<style scoped>\n",
       "    .dataframe tbody tr th:only-of-type {\n",
       "        vertical-align: middle;\n",
       "    }\n",
       "\n",
       "    .dataframe tbody tr th {\n",
       "        vertical-align: top;\n",
       "    }\n",
       "\n",
       "    .dataframe thead th {\n",
       "        text-align: right;\n",
       "    }\n",
       "</style>\n",
       "<table border=\"1\" class=\"dataframe\">\n",
       "  <thead>\n",
       "    <tr style=\"text-align: right;\">\n",
       "      <th></th>\n",
       "      <th>NACCID</th>\n",
       "    </tr>\n",
       "  </thead>\n",
       "  <tbody>\n",
       "    <tr>\n",
       "      <th>0</th>\n",
       "      <td>NACC265439</td>\n",
       "    </tr>\n",
       "    <tr>\n",
       "      <th>1</th>\n",
       "      <td>NACC557124</td>\n",
       "    </tr>\n",
       "    <tr>\n",
       "      <th>2</th>\n",
       "      <td>NACC413711</td>\n",
       "    </tr>\n",
       "    <tr>\n",
       "      <th>3</th>\n",
       "      <td>NACC769575</td>\n",
       "    </tr>\n",
       "    <tr>\n",
       "      <th>4</th>\n",
       "      <td>NACC773787</td>\n",
       "    </tr>\n",
       "    <tr>\n",
       "      <th>...</th>\n",
       "      <td>...</td>\n",
       "    </tr>\n",
       "    <tr>\n",
       "      <th>2175</th>\n",
       "      <td>NACC023040</td>\n",
       "    </tr>\n",
       "    <tr>\n",
       "      <th>2176</th>\n",
       "      <td>NACC074386</td>\n",
       "    </tr>\n",
       "    <tr>\n",
       "      <th>2177</th>\n",
       "      <td>NACC216377</td>\n",
       "    </tr>\n",
       "    <tr>\n",
       "      <th>2178</th>\n",
       "      <td>NACC538380</td>\n",
       "    </tr>\n",
       "    <tr>\n",
       "      <th>2179</th>\n",
       "      <td>NACC437998</td>\n",
       "    </tr>\n",
       "  </tbody>\n",
       "</table>\n",
       "<p>2180 rows × 1 columns</p>\n",
       "</div>"
      ],
      "text/plain": [
       "          NACCID\n",
       "0     NACC265439\n",
       "1     NACC557124\n",
       "2     NACC413711\n",
       "3     NACC769575\n",
       "4     NACC773787\n",
       "...          ...\n",
       "2175  NACC023040\n",
       "2176  NACC074386\n",
       "2177  NACC216377\n",
       "2178  NACC538380\n",
       "2179  NACC437998\n",
       "\n",
       "[2180 rows x 1 columns]"
      ]
     },
     "execution_count": 12,
     "metadata": {},
     "output_type": "execute_result"
    }
   ],
   "source": [
    "#uds_sub_mri = uds[uds['NACCID'].isin(mri['NACCID'])]\n",
    "pd.merge(CSF_IDs_unique, UDS_IDs_unique, on=\"NACCID\", how=\"inner\")"
   ]
  },
  {
   "cell_type": "code",
   "execution_count": null,
   "id": "d1a9a6f4",
   "metadata": {},
   "outputs": [],
   "source": []
  }
 ],
 "metadata": {
  "kernelspec": {
   "display_name": "Python 3 (ipykernel)",
   "language": "python",
   "name": "python3"
  },
  "language_info": {
   "codemirror_mode": {
    "name": "ipython",
    "version": 3
   },
   "file_extension": ".py",
   "mimetype": "text/x-python",
   "name": "python",
   "nbconvert_exporter": "python",
   "pygments_lexer": "ipython3",
   "version": "3.9.7"
  }
 },
 "nbformat": 4,
 "nbformat_minor": 5
}
