{
 "cells": [
  {
   "cell_type": "markdown",
   "id": "bb595ca6",
   "metadata": {},
   "source": [
    "# Feature Dictionary\n",
    "\n",
    "This notebook creates a feature mapping dictionary for UDS and MRI tables. Note that the UDS contains 1k+ features but we pre-selected ~90 features and will only focus on those. Besides the default feature description from the handbook, we include the feature categories for future reference.    \n",
    "\n",
    "Below are the reference links for feature handbook:\n",
    "- UDS: https://files.alz.washington.edu/documentation/rdd-np.pdf\n",
    "- MRI: https://files.alz.washington.edu/documentation/rdd-imaging.pdf\n",
    "- CSF: https://files.alz.washington.edu/documentation/biomarker-ee2-csf-ded.pdf"
   ]
  },
  {
   "cell_type": "code",
   "execution_count": 1,
   "id": "ad9cd881",
   "metadata": {},
   "outputs": [],
   "source": [
    "import re\n",
    "import pandas as pd\n",
    "import numpy as np\n",
    "import matplotlib.pyplot as plt\n",
    "import warnings\n",
    "from collections import defaultdict\n",
    "warnings.filterwarnings(\"ignore\")"
   ]
  },
  {
   "cell_type": "markdown",
   "id": "759f2584",
   "metadata": {},
   "source": [
    "## UDS Feature Mapping"
   ]
  },
  {
   "cell_type": "code",
   "execution_count": 2,
   "id": "e63c2df3",
   "metadata": {},
   "outputs": [],
   "source": [
    "# uds = pd.read_csv(\"../data/investigator_nacc57.csv\")\n",
    "uds_sub = pd.read_csv(\"../data/investigator_uds_baseline.csv\")\n",
    "\n",
    "# Load UDS dataset feature dictionary\n",
    "data_dictionary = pd.read_csv(\"../data/data_dictionary/uds3-rdd.csv\",encoding = 'unicode_escape')"
   ]
  },
  {
   "cell_type": "code",
   "execution_count": 3,
   "id": "6a295ccd",
   "metadata": {},
   "outputs": [
    {
     "name": "stdout",
     "output_type": "stream",
     "text": [
      "Warning: {'NACCAPOE'} (Type: demo) is not in the variable dictionary!\n"
     ]
    }
   ],
   "source": [
    "# Pre-defined variable Category\n",
    "demo_var = ['NACCID','NACCADC','NACCAGE','NACCVNUM','EDUC','SEX','VISITDAY','VISITMO','VISITYR','NACCAPOE','NACCUDSD','NACCALZP']\n",
    "cds_var = ['MEMORY','ORIENT','JUDGMENT','COMMUN','HOMEHOBB','PERSCARE','CDRSUM','CDRGLOB','COMPORT','CDRLANG']\n",
    "gds_var = ['SATIS','DROPACT','EMPTY','BORED','SPIRITS','AFRAID','HAPPY','HELPLESS','STAYHOME',\n",
    "            'MEMPROB','WONDRFUL','WRTHLESS','ENERGY','HOPELESS','BETTER','NACCGDS']\n",
    "fas_var = ['BILLS','TAXES','SHOPPING','GAMES','STOVE','MEALPREP','EVENTS','PAYATTN','REMDATES','TRAVEL']\n",
    "npi_var = ['DEL','DELSEV','HALL','HALLSEV','AGIT','AGITSEV','DEPD','DEPDSEV','ANX','ANXSEV','ELAT',\n",
    "            'ELATSEV','APA','APASEV','DISN','DISNSEV','IRR','IRRSEV','MOT','MOTSEV','NITE','NITESEV','APP','APPSEV']\n",
    "\n",
    "beh_data = cds_var + gds_var + fas_var + npi_var\n",
    "\n",
    "neuropsych_feat = list(set(uds_sub.columns) - set(demo_var + beh_data) - set(['datetime']))\n",
    "## Neuropsych_feat was loaded from neuropsych_var.csv. we use the extra features instead \n",
    "# neuropsych_feat = pd.read_csv('neuropsych_var.csv') # List of features we want to investigate in this category\n",
    "# neuropsych_feat = neuropsych_feat['Neuropsych Features'].values\n",
    "\n",
    "# UDS features of interest\n",
    "uds_feat = np.concatenate((demo_var, beh_data, neuropsych_feat))\n",
    "\n",
    "\n",
    "##################################\n",
    "## Start parsing feature maps \n",
    "##################################\n",
    "\n",
    "uds_var_dict = pd.DataFrame()\n",
    "for var, var_type in zip([demo_var, cds_var, gds_var, fas_var, npi_var, neuropsych_feat],\n",
    "                         ['demo', 'cdf', 'gds', 'fas', 'npi', 'neuro']):\n",
    "    df_temp = data_dictionary[data_dictionary['VariableName'].isin(var)].reset_index(drop=True).copy()\n",
    "    df_temp['Category'] = var_type.upper()\n",
    "    missing = set(var) - set(df_temp['VariableName'])\n",
    "    if len(missing) != 0:\n",
    "        print(\"Warning: {} (Type: {}) is not in the variable dictionary!\".format(missing,  var_type))\n",
    "        for m in missing:\n",
    "            df_temp.loc[df_temp.shape[0]] = [m] + [np.nan]*5 + [var_type.upper()]\n",
    "    uds_var_dict = pd.concat([uds_var_dict, df_temp], axis=0)\n",
    "    \n",
    "uds_var_dict = uds_var_dict[['Category', 'VariableName', 'VariableType', 'ShortDescriptor', \n",
    "                             'DataType', 'AllowableCodes']].reset_index(drop=True)\n",
    "uds_var_dict.to_csv(\"../data/data_dictionary/uds_feature_dictionary_cleaned.csv\", index=False)"
   ]
  },
  {
   "cell_type": "markdown",
   "id": "df625788",
   "metadata": {},
   "source": [
    "## MRI feature dictionary"
   ]
  },
  {
   "cell_type": "code",
   "execution_count": 4,
   "id": "0a15a957",
   "metadata": {},
   "outputs": [],
   "source": [
    "mri_raw = pd.read_csv('../data/investigator_mri_nacc57.csv')\n",
    "mri_dict = pd.read_csv(\"../data/data_dictionary/mri-dictionary.csv\",encoding = 'unicode_escape')"
   ]
  },
  {
   "cell_type": "code",
   "execution_count": 5,
   "id": "bda8b536",
   "metadata": {},
   "outputs": [
    {
     "name": "stdout",
     "output_type": "stream",
     "text": [
      "Features not in dictionary:   ['FRONTCSF', 'FRONTGRY', 'FRONTWHT', 'NACCID', 'NACCVNUM', 'OCCIPCSF', 'OCCIPGRY', 'OCCIPWHT', 'PARCSF', 'PARGRY', 'PARWHT', 'TEMPCSF', 'TEMPGRY', 'TEMPWHT']\n"
     ]
    }
   ],
   "source": [
    "#############################################################################\n",
    "## Parse Variable name, category, ShortDescriptor, data_type, and DataSource\n",
    "#############################################################################\n",
    "mri_dict_master = pd.DataFrame()\n",
    "first_row = 0\n",
    "data_type = mri_dict.iloc[0, 0].split(':')[1].strip()\n",
    "\n",
    "for i in range(1, 228):\n",
    "    if \"Section\" in str(mri_dict.iloc[i, 0]):\n",
    "        category = re.compile(\"Section .*[:\\.](.*)\").findall(mri_dict.iloc[i, 0])[0].strip()\n",
    "        df_temp = mri_dict.iloc[first_row+1:i, 1:].copy()\n",
    "        df_temp['Category'] = category\n",
    "        mri_dict_master = pd.concat([mri_dict_master, df_temp], axis=0)\n",
    "        first_row = i\n",
    "df_temp = mri_dict.iloc[first_row:i, 1:].copy()\n",
    "df_temp['Category'] = category\n",
    "mri_dict_master = pd.concat([mri_dict_master, df_temp], axis=0)\n",
    "mri_dict_master.columns = [\"VariableName\", \"ShortDescriptor\", \"DataType\", \"DataSource\", \"Category\"]\n",
    "mri_dict_master = mri_dict_master[mri_dict_master['VariableName'] != \"Variable name\"].dropna().reset_index(drop=True)\n",
    "mri_dict_master = mri_dict_master[[\"VariableName\", \"Category\", \"ShortDescriptor\", \"DataType\", \"DataSource\"]]\n",
    "\n",
    "########################################\n",
    "## Parse missing code and allowable code\n",
    "########################################\n",
    "mri_feature_dict = defaultdict(dict)\n",
    "i = 229\n",
    "var_name = mri_dict.iloc[228,2]\n",
    "allowable_code, MissingCodes = None, None\n",
    "\n",
    "while i < mri_dict.shape[0]:\n",
    "    if mri_dict.iloc[i, 1] == \"Variable name\":\n",
    "        mri_feature_dict[var_name]['MissingCodes'] = MissingCodes\n",
    "        mri_feature_dict[var_name]['AllowableCodes'] = allowable_code\n",
    "        var_name = mri_dict.iloc[i, 2]\n",
    "        allowable_code, MissingCodes = None, None\n",
    "        i += 1\n",
    "    elif mri_dict.iloc[i, 1] == \"Missing codes\":\n",
    "        MissingCodes = mri_dict.iloc[i, 2].replace('Ð',' - ')\n",
    "        i += 1\n",
    "        while mri_dict.iloc[i, 1] is np.nan:\n",
    "            MissingCodes += \"\\n\" +  mri_dict.iloc[i, 2].replace('Ð',' - ')\n",
    "            i += 1\n",
    "    elif mri_dict.iloc[i, 1] == \"Allowable codes\":\n",
    "        allowable_code = mri_dict.iloc[i, 2].replace('Ð',' - ')\n",
    "        i += 1\n",
    "        while mri_dict.iloc[i, 1] is np.nan:\n",
    "            allowable_code += \"\\n\" +  mri_dict.iloc[i, 2].replace('Ð',' - ')\n",
    "            i += 1\n",
    "    else:\n",
    "        i += 1\n",
    "mri_feature_df = pd.DataFrame.from_dict(mri_feature_dict, orient='index').reset_index()\n",
    "mri_feature_df.columns = ['VariableName', 'MissingCodes', 'AllowableCodes']\n",
    "\n",
    "########################################\n",
    "## Combine two parser\n",
    "########################################\n",
    "mri_dict_master = mri_dict_master.merge(mri_feature_df, on = 'VariableName', how='left')\n",
    "\n",
    "################################################################################\n",
    "## Subset Mri features to selected ones, We do not need these variables\n",
    "################################################################################\n",
    "mri_features_removed = ['NACCDICO','NACCNIFT','NACCMRFI','NACCNMRI','NACCMNUM','NACCMRSA','MRIMANU',\n",
    "                    'MRIMODL','NACCMRIA', 'NACCMRDY', 'MRIT1', 'MRIT2', 'MRIDTI','MRIDWI', 'MRIFLAIR', \n",
    "                    'MRIOTHER', 'MRIFIELD', 'NACCMVOL', 'NACCADC']\n",
    "mri_sub = mri_raw.loc[:, ~mri_raw.columns.isin(mri_features_removed)] \n",
    "\n",
    "# Nat all features are in mri data dictionary\n",
    "missing_features = sorted(list(set(mri_sub.columns) - set(mri_dict_master['VariableName'])))\n",
    "print(\"Features not in dictionary:  \",  missing_features)\n",
    "mri_dict_master = mri_dict_master[mri_dict_master['VariableName'].isin(mri_sub.columns)].reset_index(drop=True)\n",
    "for mf in missing_features:\n",
    "    mri_dict_master.loc[mri_dict_master.shape[0]] = [mf] + [np.nan] * (mri_dict_master.shape[1]-1)\n",
    "\n",
    "mri_dict_master.to_csv(\"../data/data_dictionary/mri_feature_dictionary_cleaned.csv\", index = False)"
   ]
  },
  {
   "cell_type": "code",
   "execution_count": null,
   "id": "330a6565",
   "metadata": {},
   "outputs": [],
   "source": []
  }
 ],
 "metadata": {
  "kernelspec": {
   "display_name": "Python 3 (ipykernel)",
   "language": "python",
   "name": "python3"
  },
  "language_info": {
   "codemirror_mode": {
    "name": "ipython",
    "version": 3
   },
   "file_extension": ".py",
   "mimetype": "text/x-python",
   "name": "python",
   "nbconvert_exporter": "python",
   "pygments_lexer": "ipython3",
   "version": "3.9.7"
  }
 },
 "nbformat": 4,
 "nbformat_minor": 5
}
